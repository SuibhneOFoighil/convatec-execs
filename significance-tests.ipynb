{
 "cells": [
  {
   "cell_type": "markdown",
   "id": "ac00a150-9c61-4aea-99bb-19e2cb599003",
   "metadata": {},
   "source": [
    "Objective: to execute non-parametric estimation of team development from 2021 to 2023 to see how significant it is\n",
    "\n",
    "Problem: really small-samples of execs (N=10 in 2023 and 11 in 2021) so traditional estimation of means does not work \n",
    "\n",
    "Outcome: for all comparisons. I would like us to focus on comparing the total delta observed (i.e,, sum of deltas \n",
    "Across all rows == 3.2) relative to those synthetically generated"
   ]
  },
  {
   "cell_type": "code",
   "execution_count": 1,
   "id": "740054f7-bee5-4535-bc56-0e93ee5fe6be",
   "metadata": {},
   "outputs": [
    {
     "data": {
      "text/html": [
       "<div>\n",
       "<style scoped>\n",
       "    .dataframe tbody tr th:only-of-type {\n",
       "        vertical-align: middle;\n",
       "    }\n",
       "\n",
       "    .dataframe tbody tr th {\n",
       "        vertical-align: top;\n",
       "    }\n",
       "\n",
       "    .dataframe thead th {\n",
       "        text-align: right;\n",
       "    }\n",
       "</style>\n",
       "<table border=\"1\" class=\"dataframe\">\n",
       "  <thead>\n",
       "    <tr style=\"text-align: right;\">\n",
       "      <th></th>\n",
       "      <th>Michigan Model of Leadership Measurement</th>\n",
       "      <th>2021</th>\n",
       "      <th>2023</th>\n",
       "      <th>Delta</th>\n",
       "      <th>Mean</th>\n",
       "      <th>Stdev</th>\n",
       "    </tr>\n",
       "  </thead>\n",
       "  <tbody>\n",
       "    <tr>\n",
       "      <th>0</th>\n",
       "      <td>Overall Team Performance (mean =3.41; st.dev=0...</td>\n",
       "      <td>3.4</td>\n",
       "      <td>3.7</td>\n",
       "      <td>0.3</td>\n",
       "      <td>3.41</td>\n",
       "      <td>0.73</td>\n",
       "    </tr>\n",
       "    <tr>\n",
       "      <th>1</th>\n",
       "      <td>Team is a role model for high-performing teams...</td>\n",
       "      <td>2.9</td>\n",
       "      <td>3.3</td>\n",
       "      <td>0.4</td>\n",
       "      <td>2.92</td>\n",
       "      <td>0.79</td>\n",
       "    </tr>\n",
       "    <tr>\n",
       "      <th>2</th>\n",
       "      <td>Blue/External Focus and Results Overall  (mean...</td>\n",
       "      <td>3.5</td>\n",
       "      <td>3.9</td>\n",
       "      <td>0.4</td>\n",
       "      <td>3.50</td>\n",
       "      <td>0.90</td>\n",
       "    </tr>\n",
       "    <tr>\n",
       "      <th>3</th>\n",
       "      <td>Motivated Effort Toward the Bottom Line (mean=...</td>\n",
       "      <td>3.7</td>\n",
       "      <td>3.9</td>\n",
       "      <td>0.2</td>\n",
       "      <td>3.69</td>\n",
       "      <td>0.86</td>\n",
       "    </tr>\n",
       "    <tr>\n",
       "      <th>4</th>\n",
       "      <td>External Focus (mean=3.42; st dev=1.02)</td>\n",
       "      <td>3.4</td>\n",
       "      <td>3.8</td>\n",
       "      <td>0.4</td>\n",
       "      <td>3.42</td>\n",
       "      <td>1.02</td>\n",
       "    </tr>\n",
       "    <tr>\n",
       "      <th>5</th>\n",
       "      <td>Green (Innovation and Creativity) Overall     ...</td>\n",
       "      <td>3.2</td>\n",
       "      <td>3.5</td>\n",
       "      <td>0.3</td>\n",
       "      <td>3.15</td>\n",
       "      <td>0.75</td>\n",
       "    </tr>\n",
       "    <tr>\n",
       "      <th>6</th>\n",
       "      <td>Curiosity and Learning (mean=3.41; st. dev.=0.77)</td>\n",
       "      <td>3.4</td>\n",
       "      <td>3.7</td>\n",
       "      <td>0.3</td>\n",
       "      <td>3.41</td>\n",
       "      <td>0.77</td>\n",
       "    </tr>\n",
       "    <tr>\n",
       "      <th>7</th>\n",
       "      <td>Innovation and Creativity (mean=3.21; st.dev=0...</td>\n",
       "      <td>3.2</td>\n",
       "      <td>3.4</td>\n",
       "      <td>0.2</td>\n",
       "      <td>3.21</td>\n",
       "      <td>0.59</td>\n",
       "    </tr>\n",
       "    <tr>\n",
       "      <th>8</th>\n",
       "      <td>Conflict Management (mean=2.92; st.dev=0.77)</td>\n",
       "      <td>2.9</td>\n",
       "      <td>3.5</td>\n",
       "      <td>0.6</td>\n",
       "      <td>2.92</td>\n",
       "      <td>0.77</td>\n",
       "    </tr>\n",
       "    <tr>\n",
       "      <th>9</th>\n",
       "      <td>Yellow (Collaboration and Relationships) Overa...</td>\n",
       "      <td>3.6</td>\n",
       "      <td>3.7</td>\n",
       "      <td>0.1</td>\n",
       "      <td>3.60</td>\n",
       "      <td>0.75</td>\n",
       "    </tr>\n",
       "    <tr>\n",
       "      <th>10</th>\n",
       "      <td>Open communication (mean=3.7; st dev=0.87)</td>\n",
       "      <td>3.7</td>\n",
       "      <td>3.9</td>\n",
       "      <td>0.2</td>\n",
       "      <td>3.70</td>\n",
       "      <td>0.87</td>\n",
       "    </tr>\n",
       "    <tr>\n",
       "      <th>11</th>\n",
       "      <td>Cooperation (mean=3.52; st dev.=0.65)</td>\n",
       "      <td>3.5</td>\n",
       "      <td>3.7</td>\n",
       "      <td>0.2</td>\n",
       "      <td>3.52</td>\n",
       "      <td>0.65</td>\n",
       "    </tr>\n",
       "    <tr>\n",
       "      <th>12</th>\n",
       "      <td>Trust (mean=3.53; st dev=0.70)</td>\n",
       "      <td>3.5</td>\n",
       "      <td>3.6</td>\n",
       "      <td>0.1</td>\n",
       "      <td>3.53</td>\n",
       "      <td>0.70</td>\n",
       "    </tr>\n",
       "    <tr>\n",
       "      <th>13</th>\n",
       "      <td>Red (Processes and Structures) Overall     mea...</td>\n",
       "      <td>3.6</td>\n",
       "      <td>3.5</td>\n",
       "      <td>-0.1</td>\n",
       "      <td>3.60</td>\n",
       "      <td>0.80</td>\n",
       "    </tr>\n",
       "    <tr>\n",
       "      <th>14</th>\n",
       "      <td>Roles and Accountability (mean=4.04; st.dev=0.75)</td>\n",
       "      <td>4.0</td>\n",
       "      <td>3.7</td>\n",
       "      <td>-0.3</td>\n",
       "      <td>4.04</td>\n",
       "      <td>0.75</td>\n",
       "    </tr>\n",
       "    <tr>\n",
       "      <th>15</th>\n",
       "      <td>Coordination (mean=3.33; st. dev=0.70)</td>\n",
       "      <td>3.3</td>\n",
       "      <td>3.2</td>\n",
       "      <td>-0.1</td>\n",
       "      <td>3.33</td>\n",
       "      <td>0.70</td>\n",
       "    </tr>\n",
       "  </tbody>\n",
       "</table>\n",
       "</div>"
      ],
      "text/plain": [
       "             Michigan Model of Leadership Measurement  2021  2023  Delta  \\\n",
       "0   Overall Team Performance (mean =3.41; st.dev=0...   3.4   3.7    0.3   \n",
       "1   Team is a role model for high-performing teams...   2.9   3.3    0.4   \n",
       "2   Blue/External Focus and Results Overall  (mean...   3.5   3.9    0.4   \n",
       "3   Motivated Effort Toward the Bottom Line (mean=...   3.7   3.9    0.2   \n",
       "4             External Focus (mean=3.42; st dev=1.02)   3.4   3.8    0.4   \n",
       "5   Green (Innovation and Creativity) Overall     ...   3.2   3.5    0.3   \n",
       "6   Curiosity and Learning (mean=3.41; st. dev.=0.77)   3.4   3.7    0.3   \n",
       "7   Innovation and Creativity (mean=3.21; st.dev=0...   3.2   3.4    0.2   \n",
       "8        Conflict Management (mean=2.92; st.dev=0.77)   2.9   3.5    0.6   \n",
       "9   Yellow (Collaboration and Relationships) Overa...   3.6   3.7    0.1   \n",
       "10        Open communication (mean=3.7; st dev=0.87)    3.7   3.9    0.2   \n",
       "11              Cooperation (mean=3.52; st dev.=0.65)   3.5   3.7    0.2   \n",
       "12                     Trust (mean=3.53; st dev=0.70)   3.5   3.6    0.1   \n",
       "13  Red (Processes and Structures) Overall     mea...   3.6   3.5   -0.1   \n",
       "14  Roles and Accountability (mean=4.04; st.dev=0.75)   4.0   3.7   -0.3   \n",
       "15            Coordination (mean=3.33; st. dev=0.70)    3.3   3.2   -0.1   \n",
       "\n",
       "    Mean  Stdev  \n",
       "0   3.41   0.73  \n",
       "1   2.92   0.79  \n",
       "2   3.50   0.90  \n",
       "3   3.69   0.86  \n",
       "4   3.42   1.02  \n",
       "5   3.15   0.75  \n",
       "6   3.41   0.77  \n",
       "7   3.21   0.59  \n",
       "8   2.92   0.77  \n",
       "9   3.60   0.75  \n",
       "10  3.70   0.87  \n",
       "11  3.52   0.65  \n",
       "12  3.53   0.70  \n",
       "13  3.60   0.80  \n",
       "14  4.04   0.75  \n",
       "15  3.33   0.70  "
      ]
     },
     "execution_count": 1,
     "metadata": {},
     "output_type": "execute_result"
    }
   ],
   "source": [
    "import pandas as pd\n",
    "import numpy as np\n",
    "import seaborn as sns\n",
    "import matplotlib.pyplot as plt\n",
    "\n",
    "df = pd.read_excel('data.xlsx')\n",
    "df"
   ]
  },
  {
   "cell_type": "markdown",
   "id": "3694e963-6c35-44f4-8742-20ec3a864721",
   "metadata": {},
   "source": [
    "Approach 1: \n",
    "- Keep 2023 constant. \n",
    "- For each corresponding value in 2021, pull the value at random from the normal distribution with the mean and sd for that specific value\n",
    "- Record the value and calculate delta for each row (could be positive or negative)\n",
    "- Calculate the sum of  deltas across all rows\n",
    "- Record the sum of deltas\n",
    "- Repeat 10,000 times \n",
    "- Rank order the 10,000 cumulative deltas from the lowest  to the highest\n",
    "- Place the actual delta (3.2) on that distribution and record the percentile "
   ]
  },
  {
   "cell_type": "code",
   "execution_count": 2,
   "id": "2c46e24b-661f-49e1-a5eb-d97258ee3cda",
   "metadata": {},
   "outputs": [
    {
     "data": {
      "image/png": "[encoded data removed]",
      "text/plain": [
       "<Figure size 432x288 with 1 Axes>"
      ]
     },
     "metadata": {
      "needs_background": "light"
     },
     "output_type": "display_data"
    },
    {
     "name": "stdout",
     "output_type": "stream",
     "text": [
      "Percentile of actual delta: 83.44%\n"
     ]
    }
   ],
   "source": [
    "values_2021 = df[2021]\n",
    "mean = df.Mean\n",
    "sd = df.Stdev\n",
    "actual_delta = df.Delta.sum()\n",
    "simulations = 10000\n",
    "\n",
    "# Calculate the cumulative delta for each simulation\n",
    "cumulative_deltas = []\n",
    "for i in range(simulations):\n",
    "    deltas = []\n",
    "    for j, val in enumerate(values_2021):\n",
    "        # Pull a random value from normal distribution for each value in 2021\n",
    "        random_val = np.random.normal(mean[j], sd[j])\n",
    "        # Calculate the delta\n",
    "        delta = random_val - val\n",
    "        deltas.append(delta)\n",
    "    cumulative_deltas.append(sum(deltas))\n",
    "\n",
    "cumulative_deltas.sort()\n",
    "\n",
    "ax = sns.histplot(cumulative_deltas)\n",
    "ax.set(xlabel='Simulated Cumulative Deltas', title='Approach 1')\n",
    "plt.axvline(x = actual_delta, color = 'r', label = 'real cummulative delta')\n",
    "plt.show()\n",
    "\n",
    "# Calculate the percentile of actual delta\n",
    "percentile = (np.sum(cumulative_deltas <= actual_delta) / len(cumulative_deltas)) * 100\n",
    "print(\"Percentile of actual delta: {:.2f}%\".format(percentile))"
   ]
  },
  {
   "cell_type": "markdown",
   "id": "bbee5f30-c883-4c7f-ba1d-e54f1a943277",
   "metadata": {},
   "source": [
    "Approach 2: \n",
    "- For each observable delta in row, generate the counterpart with opposite sign. That is for overall team performance it would -0.3; team role model =-0.4; for last row it would be +0.1\n",
    "- Pull the observed and the generated values together in a distribution (N=2x the regular number of deltas). \n",
    "- From this distribution randomly pull 16 values of delta (equivalent of the number of rows)\n",
    "- Calculate and record the sum of deltas. \n",
    "- Repeat 10,000 times \n",
    "- Rank order 10,000 sums of deltas from lowest to highest\n",
    "- Place the actual delta 3.2 on that distribution of 10,000 deltas and report the percentile. "
   ]
  },
  {
   "cell_type": "code",
   "execution_count": 3,
   "id": "8dc8c117-a32a-4be7-81a8-4a0e244c4951",
   "metadata": {},
   "outputs": [
    {
     "data": {
      "image/png": "[encoded data removed]",
      "text/plain": [
       "<Figure size 432x288 with 1 Axes>"
      ]
     },
     "metadata": {
      "needs_background": "light"
     },
     "output_type": "display_data"
    },
    {
     "name": "stdout",
     "output_type": "stream",
     "text": [
      "Percentile of actual delta: 99.66%\n"
     ]
    }
   ],
   "source": [
    "# Combine the observed and generated deltas into a distribution\n",
    "observable_deltas = df.Delta.to_numpy()\n",
    "counterpart_deltas = observable_deltas * -1\n",
    "deltas = np.concatenate((observable_deltas, counterpart_deltas))\n",
    "\n",
    "# Calculate the sum of deltas for each simulation\n",
    "sums_of_deltas = []\n",
    "for i in range(simulations):\n",
    "    # Randomly pull 16 values of delta\n",
    "    random_deltas = np.random.choice(deltas, 16)\n",
    "    sums_of_deltas.append(sum(random_deltas))\n",
    "\n",
    "sums_of_deltas.sort()\n",
    "\n",
    "ax = sns.histplot(sums_of_deltas)\n",
    "ax.set(xlabel='Simulated Cumulative Deltas', title='Approach 2, Random Choice')\n",
    "plt.axvline(x = actual_delta, color = 'r', label = 'real cummulative delta')\n",
    "plt.show()\n",
    "\n",
    "# Calculate the percentile of actual delta\n",
    "percentile = (np.sum(sums_of_deltas <= actual_delta) / len(sums_of_deltas)) * 100\n",
    "print(\"Percentile of actual delta: {:.2f}%\".format(percentile))"
   ]
  },
  {
   "cell_type": "markdown",
   "id": "365efea9-4789-479c-aef8-ede3720b7acb",
   "metadata": {},
   "source": [
    "Using normal distribution instead."
   ]
  },
  {
   "cell_type": "code",
   "execution_count": 4,
   "id": "b783a91a-5a2b-42ef-874c-aa3cbdf5906a",
   "metadata": {
    "tags": []
   },
   "outputs": [
    {
     "data": {
      "image/png": "[encoded data removed]",
      "text/plain": [
       "<Figure size 432x288 with 1 Axes>"
      ]
     },
     "metadata": {
      "needs_background": "light"
     },
     "output_type": "display_data"
    },
    {
     "name": "stdout",
     "output_type": "stream",
     "text": [
      "Percentile of actual delta: 99.63%\n"
     ]
    }
   ],
   "source": [
    "# Draw from normal distribution instead of 16 random choices\n",
    "delta_mean = np.mean(deltas)\n",
    "delta_stdev = np.std(deltas)\n",
    "\n",
    "sums_of_deltas = []\n",
    "for i in range(simulations):\n",
    "    random_deltas = np.random.normal(delta_mean, delta_stdev, 16)\n",
    "    sums_of_deltas.append(sum(random_deltas))\n",
    "\n",
    "# Sort the sums of deltas\n",
    "sums_of_deltas.sort()\n",
    "\n",
    "ax = sns.histplot(sums_of_deltas)\n",
    "ax.set(xlabel='Simulated Cumulative Deltas', title='Approach 2, Normal Distribution')\n",
    "plt.axvline(x = actual_delta, color = 'r', label = 'real cummulative delta')\n",
    "plt.show()\n",
    "\n",
    "# Calculate the percentile of actual delta\n",
    "percentile = (np.sum(sums_of_deltas <= actual_delta) / len(sums_of_deltas)) * 100\n",
    "print(\"Percentile of actual delta: {:.2f}%\".format(percentile))"
   ]
  }
 ],
 "metadata": {
  "kernelspec": {
   "display_name": "Python 3",
   "language": "python",
   "name": "python3"
  },
  "language_info": {
   "codemirror_mode": {
    "name": "ipython",
    "version": 3
   },
   "file_extension": ".py",
   "mimetype": "text/x-python",
   "name": "python",
   "nbconvert_exporter": "python",
   "pygments_lexer": "ipython3",
   "version": "3.9.7"
  }
 },
 "nbformat": 4,
 "nbformat_minor": 5
}
